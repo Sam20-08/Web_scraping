{
  "nbformat": 4,
  "nbformat_minor": 0,
  "metadata": {
    "colab": {
      "provenance": []
    },
    "kernelspec": {
      "name": "python3",
      "display_name": "Python 3"
    },
    "language_info": {
      "name": "python"
    }
  },
  "cells": [
    {
      "cell_type": "markdown",
      "source": [
        "# 1.Importing libraries"
      ],
      "metadata": {
        "id": "0Af6lL8SBymu"
      }
    },
    {
      "cell_type": "code",
      "execution_count": 62,
      "metadata": {
        "id": "j-H96v4BBjaX"
      },
      "outputs": [],
      "source": [
        "import requests\n",
        "from bs4 import BeautifulSoup as bs"
      ]
    },
    {
      "cell_type": "markdown",
      "source": [
        "# 2.Load the page"
      ],
      "metadata": {
        "id": "MBkqk2QVB2eL"
      }
    },
    {
      "cell_type": "code",
      "source": [
        "## Load the page\n",
        "r=requests.get(\"https://keithgalli.github.io/web-scraping/example.html\")\n",
        "\n",
        "## converting into beautiful soup objects\n",
        "soup=bs(r.content)\n",
        "\n",
        "## printing out the HTML\n",
        "print(soup.prettify())     # prettify -- makes the code readable(like intentation)"
      ],
      "metadata": {
        "colab": {
          "base_uri": "https://localhost:8080/"
        },
        "id": "a8jkPoXjBwuq",
        "outputId": "f4a49057-190c-4841-aa59-eae12cc10105"
      },
      "execution_count": 63,
      "outputs": [
        {
          "output_type": "stream",
          "name": "stdout",
          "text": [
            "<html>\n",
            " <head>\n",
            "  <title>\n",
            "   HTML Example\n",
            "  </title>\n",
            " </head>\n",
            " <body>\n",
            "  <div align=\"middle\">\n",
            "   <h1>\n",
            "    HTML Webpage\n",
            "   </h1>\n",
            "   <p>\n",
            "    Link to more interesting example:\n",
            "    <a href=\"https://keithgalli.github.io/web-scraping/webpage.html\">\n",
            "     keithgalli.github.io/web-scraping/webpage.html\n",
            "    </a>\n",
            "   </p>\n",
            "  </div>\n",
            "  <h2>\n",
            "   A Header\n",
            "  </h2>\n",
            "  <p>\n",
            "   <i>\n",
            "    Some italicized text\n",
            "   </i>\n",
            "  </p>\n",
            "  <h2>\n",
            "   Another header\n",
            "  </h2>\n",
            "  <p id=\"paragraph-id\">\n",
            "   <b>\n",
            "    Some bold text\n",
            "   </b>\n",
            "  </p>\n",
            " </body>\n",
            "</html>\n",
            "\n"
          ]
        }
      ]
    },
    {
      "cell_type": "markdown",
      "source": [
        "# 3.scraping the data with beautiful soup"
      ],
      "metadata": {
        "id": "2gjACQ8BCvPY"
      }
    },
    {
      "cell_type": "code",
      "source": [
        "## findind single element\n",
        "\n",
        "first_header=soup.find(\"h2\")\n",
        "print(first_header)"
      ],
      "metadata": {
        "colab": {
          "base_uri": "https://localhost:8080/"
        },
        "id": "hp_oBBjMCYS9",
        "outputId": "33763638-da3f-4843-aaca-ccdaa52526d8"
      },
      "execution_count": 64,
      "outputs": [
        {
          "output_type": "stream",
          "name": "stdout",
          "text": [
            "<h2>A Header</h2>\n"
          ]
        }
      ]
    },
    {
      "cell_type": "code",
      "source": [
        "## finding everything using the tag\n",
        "\n",
        "headers=soup.find_all(\"h2\")\n",
        "print(headers)"
      ],
      "metadata": {
        "colab": {
          "base_uri": "https://localhost:8080/"
        },
        "id": "KfvR9dyjDQhG",
        "outputId": "5b1cde3e-52fa-4c27-a95a-86c07f39e4b0"
      },
      "execution_count": 65,
      "outputs": [
        {
          "output_type": "stream",
          "name": "stdout",
          "text": [
            "[<h2>A Header</h2>, <h2>Another header</h2>]\n"
          ]
        }
      ]
    },
    {
      "cell_type": "code",
      "source": [
        "## pass a list of items to find\n",
        "\n",
        "first_header=soup.find([\"h1\",\"h2\"])\n",
        "print(first_header)"
      ],
      "metadata": {
        "colab": {
          "base_uri": "https://localhost:8080/"
        },
        "id": "r84wKEa-Denn",
        "outputId": "ac06f22f-eef0-4c2d-9744-7d67b68495f9"
      },
      "execution_count": 66,
      "outputs": [
        {
          "output_type": "stream",
          "name": "stdout",
          "text": [
            "<h1>HTML Webpage</h1>\n"
          ]
        }
      ]
    },
    {
      "cell_type": "code",
      "source": [
        "headers=soup.find_all([\"h1\",\"h2\"])\n",
        "print(headers)"
      ],
      "metadata": {
        "colab": {
          "base_uri": "https://localhost:8080/"
        },
        "id": "YUDBzzzmD2th",
        "outputId": "d3c968c7-3ba6-474b-b9bc-f73bc4185543"
      },
      "execution_count": 67,
      "outputs": [
        {
          "output_type": "stream",
          "name": "stdout",
          "text": [
            "[<h1>HTML Webpage</h1>, <h2>A Header</h2>, <h2>Another header</h2>]\n"
          ]
        }
      ]
    },
    {
      "cell_type": "code",
      "source": [
        "## finding the element with attribute\n",
        "\n",
        "paragraph=soup.find_all(\"p\",id=\"paragraph-id\")\n",
        "print(paragraph)"
      ],
      "metadata": {
        "colab": {
          "base_uri": "https://localhost:8080/"
        },
        "id": "EZc9aUI3EGJe",
        "outputId": "37fac745-9a07-4494-ab9f-2a0cbf7bd34a"
      },
      "execution_count": 68,
      "outputs": [
        {
          "output_type": "stream",
          "name": "stdout",
          "text": [
            "[<p id=\"paragraph-id\"><b>Some bold text</b></p>]\n"
          ]
        }
      ]
    },
    {
      "cell_type": "code",
      "source": [
        "# finding the nest elements\n",
        "\n",
        "body=soup.find('body')\n",
        "#body\n",
        "div=body.find('div')\n",
        "#div\n",
        "header=div.find('h1')\n",
        "header"
      ],
      "metadata": {
        "colab": {
          "base_uri": "https://localhost:8080/"
        },
        "id": "3O-gQez4Eunk",
        "outputId": "a5c791ac-3298-4276-afc6-9caceaf0cf43"
      },
      "execution_count": 69,
      "outputs": [
        {
          "output_type": "execute_result",
          "data": {
            "text/plain": [
              "<h1>HTML Webpage</h1>"
            ]
          },
          "metadata": {},
          "execution_count": 69
        }
      ]
    },
    {
      "cell_type": "markdown",
      "source": [
        "# 4.searching for a specific word"
      ],
      "metadata": {
        "id": "iinefPVnGOeN"
      }
    },
    {
      "cell_type": "code",
      "source": [
        "import re\n",
        "\n",
        "paragraphs=soup.find_all(\"p\",string=re.compile(\"Some\"))\n",
        "paragraphs"
      ],
      "metadata": {
        "colab": {
          "base_uri": "https://localhost:8080/"
        },
        "id": "BfeJ-kSwFWu1",
        "outputId": "7f86e3c2-f5c3-4ba5-ea52-81661cfb39f5"
      },
      "execution_count": 70,
      "outputs": [
        {
          "output_type": "execute_result",
          "data": {
            "text/plain": [
              "[<p><i>Some italicized text</i></p>,\n",
              " <p id=\"paragraph-id\"><b>Some bold text</b></p>]"
            ]
          },
          "metadata": {},
          "execution_count": 70
        }
      ]
    },
    {
      "cell_type": "code",
      "source": [
        "header=soup.find_all(\"h2\",string=re.compile(\"header\"))\n",
        "header"
      ],
      "metadata": {
        "colab": {
          "base_uri": "https://localhost:8080/"
        },
        "id": "Vh44gD-0GfPd",
        "outputId": "19a53abd-cc87-43bb-a09c-687e65915b39"
      },
      "execution_count": 71,
      "outputs": [
        {
          "output_type": "execute_result",
          "data": {
            "text/plain": [
              "[<h2>Another header</h2>]"
            ]
          },
          "metadata": {},
          "execution_count": 71
        }
      ]
    },
    {
      "cell_type": "code",
      "source": [
        "header=soup.find_all(\"h2\",string=re.compile(\"(H|h)eader\"))\n",
        "header"
      ],
      "metadata": {
        "colab": {
          "base_uri": "https://localhost:8080/"
        },
        "id": "73O3pdQbG1HQ",
        "outputId": "b895035e-1a71-47ca-d963-af64f7a393eb"
      },
      "execution_count": 72,
      "outputs": [
        {
          "output_type": "execute_result",
          "data": {
            "text/plain": [
              "[<h2>A Header</h2>, <h2>Another header</h2>]"
            ]
          },
          "metadata": {},
          "execution_count": 72
        }
      ]
    },
    {
      "cell_type": "markdown",
      "source": [
        "# select (css select)"
      ],
      "metadata": {
        "id": "cClxht0HHa-d"
      }
    },
    {
      "cell_type": "code",
      "source": [
        "content=soup.select(\"p\")\n",
        "content"
      ],
      "metadata": {
        "colab": {
          "base_uri": "https://localhost:8080/"
        },
        "id": "QljR97ZwHFny",
        "outputId": "48f36c76-99ed-4f76-dcec-bbf86f255d4c"
      },
      "execution_count": 73,
      "outputs": [
        {
          "output_type": "execute_result",
          "data": {
            "text/plain": [
              "[<p>Link to more interesting example: <a href=\"https://keithgalli.github.io/web-scraping/webpage.html\">keithgalli.github.io/web-scraping/webpage.html</a></p>,\n",
              " <p><i>Some italicized text</i></p>,\n",
              " <p id=\"paragraph-id\"><b>Some bold text</b></p>]"
            ]
          },
          "metadata": {},
          "execution_count": 73
        }
      ]
    },
    {
      "cell_type": "code",
      "source": [
        "content=soup.select(\"div p\") # return the paragraph inside the div\n",
        "content"
      ],
      "metadata": {
        "colab": {
          "base_uri": "https://localhost:8080/"
        },
        "id": "RlVrVAh3I5Ow",
        "outputId": "e22e4892-5ee6-4550-9b8f-a673b650d3cd"
      },
      "execution_count": 74,
      "outputs": [
        {
          "output_type": "execute_result",
          "data": {
            "text/plain": [
              "[<p>Link to more interesting example: <a href=\"https://keithgalli.github.io/web-scraping/webpage.html\">keithgalli.github.io/web-scraping/webpage.html</a></p>]"
            ]
          },
          "metadata": {},
          "execution_count": 74
        }
      ]
    },
    {
      "cell_type": "code",
      "source": [
        "paragraphs=soup.select(\"h2 ~ p\") ## returns the paragraph after the h2\n",
        "paragraphs"
      ],
      "metadata": {
        "colab": {
          "base_uri": "https://localhost:8080/"
        },
        "id": "UbLxgwKeI-kd",
        "outputId": "cc5fd5b6-be86-4518-a1e1-c630e3980ade"
      },
      "execution_count": 75,
      "outputs": [
        {
          "output_type": "execute_result",
          "data": {
            "text/plain": [
              "[<p><i>Some italicized text</i></p>,\n",
              " <p id=\"paragraph-id\"><b>Some bold text</b></p>]"
            ]
          },
          "metadata": {},
          "execution_count": 75
        }
      ]
    },
    {
      "cell_type": "code",
      "source": [
        "###  #--for id\n",
        "### (.)-- class\n",
        "bold_text=soup.select(\"p#paragraph-id b\")  # return the bold element which is nested inside the paragraph\n",
        "bold_text"
      ],
      "metadata": {
        "colab": {
          "base_uri": "https://localhost:8080/"
        },
        "id": "2oIh-FPYJaTa",
        "outputId": "129eaed8-66ea-45c7-bd41-c4e0d579130f"
      },
      "execution_count": 93,
      "outputs": [
        {
          "output_type": "execute_result",
          "data": {
            "text/plain": [
              "[<b>Some bold text</b>]"
            ]
          },
          "metadata": {},
          "execution_count": 93
        }
      ]
    },
    {
      "cell_type": "code",
      "source": [
        "paragraphs=soup.select(\"body > p\") # The direct descendent of body\n",
        "paragraphs"
      ],
      "metadata": {
        "colab": {
          "base_uri": "https://localhost:8080/"
        },
        "id": "RG8JTkmUJ9DN",
        "outputId": "78503428-ae9f-4132-ebfa-63e0d9ea8f73"
      },
      "execution_count": 77,
      "outputs": [
        {
          "output_type": "execute_result",
          "data": {
            "text/plain": [
              "[<p><i>Some italicized text</i></p>,\n",
              " <p id=\"paragraph-id\"><b>Some bold text</b></p>]"
            ]
          },
          "metadata": {},
          "execution_count": 77
        }
      ]
    },
    {
      "cell_type": "code",
      "source": [
        "for paragraph in paragraphs:\n",
        "  print(paragraph.select(\"i\"))    # from above  the paragraphs the loops goes through and returns the <i> and empty if not present"
      ],
      "metadata": {
        "colab": {
          "base_uri": "https://localhost:8080/"
        },
        "id": "ubnA6Q6UjbLs",
        "outputId": "5c60282e-16ea-445b-8d05-33a5ab25c730"
      },
      "execution_count": 78,
      "outputs": [
        {
          "output_type": "stream",
          "name": "stdout",
          "text": [
            "[<i>Some italicized text</i>]\n",
            "[]\n"
          ]
        }
      ]
    },
    {
      "cell_type": "code",
      "source": [
        "# grabbing hte element by specific prperty\n",
        "\n",
        "soup.select(\"[align=middle]\")"
      ],
      "metadata": {
        "colab": {
          "base_uri": "https://localhost:8080/"
        },
        "id": "l9AeMpVTjyX5",
        "outputId": "2160e4da-a4bc-424e-9293-af2774ea4855"
      },
      "execution_count": 79,
      "outputs": [
        {
          "output_type": "execute_result",
          "data": {
            "text/plain": [
              "[<div align=\"middle\">\n",
              " <h1>HTML Webpage</h1>\n",
              " <p>Link to more interesting example: <a href=\"https://keithgalli.github.io/web-scraping/webpage.html\">keithgalli.github.io/web-scraping/webpage.html</a></p>\n",
              " </div>]"
            ]
          },
          "metadata": {},
          "execution_count": 79
        }
      ]
    },
    {
      "cell_type": "markdown",
      "source": [
        "# Getting different prperties of HTML"
      ],
      "metadata": {
        "id": "QubJ70HekY6X"
      }
    },
    {
      "cell_type": "code",
      "source": [
        "#soup.select(\"h2\")\n",
        "header=soup.find(\"h2\")\n",
        "header.string  # returns the string inside the h2"
      ],
      "metadata": {
        "colab": {
          "base_uri": "https://localhost:8080/",
          "height": 36
        },
        "id": "tyz2Zy05kTNG",
        "outputId": "6e82cd9e-4f82-4f7f-b44e-8c629fbdba96"
      },
      "execution_count": 80,
      "outputs": [
        {
          "output_type": "execute_result",
          "data": {
            "text/plain": [
              "'A Header'"
            ],
            "application/vnd.google.colaboratory.intrinsic+json": {
              "type": "string"
            }
          },
          "metadata": {},
          "execution_count": 80
        }
      ]
    },
    {
      "cell_type": "code",
      "source": [
        "div=soup.find(\"div\")\n",
        "print(div.string)   # returns none coz (Multiple elements )"
      ],
      "metadata": {
        "colab": {
          "base_uri": "https://localhost:8080/"
        },
        "id": "ergJ2OftkjyG",
        "outputId": "2a7a80ea-7fb6-408d-e4e9-cae5d1c2828f"
      },
      "execution_count": 81,
      "outputs": [
        {
          "output_type": "stream",
          "name": "stdout",
          "text": [
            "None\n"
          ]
        }
      ]
    },
    {
      "cell_type": "code",
      "source": [
        "div=soup.find(\"div\")\n",
        "print(div.prettify())\n",
        "print(div.get_text())   # it solves the problem with the (Multiple elements)"
      ],
      "metadata": {
        "colab": {
          "base_uri": "https://localhost:8080/"
        },
        "id": "8J00K2i1k7Bl",
        "outputId": "06e53b3d-1d32-4777-ff6e-e37d48e684b6"
      },
      "execution_count": 82,
      "outputs": [
        {
          "output_type": "stream",
          "name": "stdout",
          "text": [
            "<div align=\"middle\">\n",
            " <h1>\n",
            "  HTML Webpage\n",
            " </h1>\n",
            " <p>\n",
            "  Link to more interesting example:\n",
            "  <a href=\"https://keithgalli.github.io/web-scraping/webpage.html\">\n",
            "   keithgalli.github.io/web-scraping/webpage.html\n",
            "  </a>\n",
            " </p>\n",
            "</div>\n",
            "\n",
            "\n",
            "HTML Webpage\n",
            "Link to more interesting example: keithgalli.github.io/web-scraping/webpage.html\n",
            "\n"
          ]
        }
      ]
    },
    {
      "cell_type": "code",
      "source": [
        "# Get a specific property from an element\n",
        "link=soup.find(\"a\")\n",
        "link['href']"
      ],
      "metadata": {
        "colab": {
          "base_uri": "https://localhost:8080/",
          "height": 36
        },
        "id": "l2WyHEb9le7p",
        "outputId": "851edf32-ae53-49a9-f00c-ebcc62c19f13"
      },
      "execution_count": 83,
      "outputs": [
        {
          "output_type": "execute_result",
          "data": {
            "text/plain": [
              "'https://keithgalli.github.io/web-scraping/webpage.html'"
            ],
            "application/vnd.google.colaboratory.intrinsic+json": {
              "type": "string"
            }
          },
          "metadata": {},
          "execution_count": 83
        }
      ]
    },
    {
      "cell_type": "code",
      "source": [
        "paraagraph=soup.select(\"p#paragraph-id\")\n",
        "paragraph['id']"
      ],
      "metadata": {
        "colab": {
          "base_uri": "https://localhost:8080/",
          "height": 36
        },
        "id": "e6R2SgGpmN-M",
        "outputId": "de64ddfe-f43d-4a66-de86-15b1b36c7006"
      },
      "execution_count": 84,
      "outputs": [
        {
          "output_type": "execute_result",
          "data": {
            "text/plain": [
              "'paragraph-id'"
            ],
            "application/vnd.google.colaboratory.intrinsic+json": {
              "type": "string"
            }
          },
          "metadata": {},
          "execution_count": 84
        }
      ]
    },
    {
      "cell_type": "markdown",
      "source": [
        "# Code navigation"
      ],
      "metadata": {
        "id": "J6rwsh42myqI"
      }
    },
    {
      "cell_type": "code",
      "source": [
        "# path syntax\n",
        "soup.body.div.h1.string"
      ],
      "metadata": {
        "colab": {
          "base_uri": "https://localhost:8080/",
          "height": 36
        },
        "id": "qMLOGPkAmlyP",
        "outputId": "5125a375-b82d-4287-a76f-5858bef7b529"
      },
      "execution_count": 85,
      "outputs": [
        {
          "output_type": "execute_result",
          "data": {
            "text/plain": [
              "'HTML Webpage'"
            ],
            "application/vnd.google.colaboratory.intrinsic+json": {
              "type": "string"
            }
          },
          "metadata": {},
          "execution_count": 85
        }
      ]
    },
    {
      "cell_type": "code",
      "source": [
        "#knowing the terms : parents,sibilings,child\n",
        "\n",
        "soup.body.find(\"div\").find_next_sibling()  # finding the next sibling\n"
      ],
      "metadata": {
        "colab": {
          "base_uri": "https://localhost:8080/"
        },
        "id": "OoS4vhLVnuNn",
        "outputId": "50601e23-31c3-48a6-f18d-6a924e4ca788"
      },
      "execution_count": 86,
      "outputs": [
        {
          "output_type": "execute_result",
          "data": {
            "text/plain": [
              "<h2>A Header</h2>"
            ]
          },
          "metadata": {},
          "execution_count": 86
        }
      ]
    },
    {
      "cell_type": "code",
      "source": [
        "soup.body.find(\"div\").find_next_siblings()  #finding the all siblings"
      ],
      "metadata": {
        "colab": {
          "base_uri": "https://localhost:8080/"
        },
        "id": "YkeJ5i0Lo-hr",
        "outputId": "3b1e6fc7-071c-4894-bf27-c75a03e14d65"
      },
      "execution_count": 87,
      "outputs": [
        {
          "output_type": "execute_result",
          "data": {
            "text/plain": [
              "[<h2>A Header</h2>,\n",
              " <p><i>Some italicized text</i></p>,\n",
              " <h2>Another header</h2>,\n",
              " <p id=\"paragraph-id\"><b>Some bold text</b></p>]"
            ]
          },
          "metadata": {},
          "execution_count": 87
        }
      ]
    },
    {
      "cell_type": "markdown",
      "source": [
        "# Tasks"
      ],
      "metadata": {
        "id": "5a6_zcUHqcnV"
      }
    },
    {
      "cell_type": "code",
      "source": [
        "# Loading the page\n",
        "r=requests.get(\"https://keithgalli.github.io/web-scraping/webpage.html\")\n",
        "\n",
        "webpage=bs(r.content)\n",
        "\n",
        "print(webpage.prettify())"
      ],
      "metadata": {
        "colab": {
          "base_uri": "https://localhost:8080/"
        },
        "id": "RiqE3901qqlD",
        "outputId": "06bf6dd3-9424-481f-b39a-50ac4e10842a"
      },
      "execution_count": 88,
      "outputs": [
        {
          "output_type": "stream",
          "name": "stdout",
          "text": [
            "<html>\n",
            " <head>\n",
            "  <title>\n",
            "   Keith Galli's Page\n",
            "  </title>\n",
            "  <style>\n",
            "   table {\n",
            "    border-collapse: collapse;\n",
            "  }\n",
            "  th {\n",
            "    padding:5px;\n",
            "  }\n",
            "  td {\n",
            "    border: 1px solid #ddd;\n",
            "    padding: 5px;\n",
            "  }\n",
            "  tr:nth-child(even) {\n",
            "    background-color: #f2f2f2;\n",
            "  }\n",
            "  th {\n",
            "    padding-top: 12px;\n",
            "    padding-bottom: 12px;\n",
            "    text-align: left;\n",
            "    background-color: #add8e6;\n",
            "    color: black;\n",
            "  }\n",
            "  .block {\n",
            "  width: 100px;\n",
            "  /*float: left;*/\n",
            "    display: inline-block;\n",
            "    zoom: 1;\n",
            "  }\n",
            "  .column {\n",
            "  float: left;\n",
            "  height: 200px;\n",
            "  /*width: 33.33%;*/\n",
            "  padding: 5px;\n",
            "  }\n",
            "\n",
            "  .row::after {\n",
            "    content: \"\";\n",
            "    clear: both;\n",
            "    display: table;\n",
            "  }\n",
            "  </style>\n",
            " </head>\n",
            " <body>\n",
            "  <h1>\n",
            "   Welcome to my page!\n",
            "  </h1>\n",
            "  <img src=\"./images/selfie1.jpg\" width=\"300px\"/>\n",
            "  <h2>\n",
            "   About me\n",
            "  </h2>\n",
            "  <p>\n",
            "   Hi, my name is Keith and I am a YouTuber who focuses on content related to programming, data science, and machine learning!\n",
            "  </p>\n",
            "  <p>\n",
            "   Here is a link to my channel:\n",
            "   <a href=\"https://www.youtube.com/kgmit\">\n",
            "    youtube.com/kgmit\n",
            "   </a>\n",
            "  </p>\n",
            "  <p>\n",
            "   I grew up in the great state of New Hampshire here in the USA. From an early age I always loved math. Around my senior year of high school, my brother first introduced me to programming. I found it a creative way to apply the same type of logical thinking skills that I enjoyed with math. This influenced me to study computer science in college and ultimately create a YouTube channel to share some things that I have learned along the way.\n",
            "  </p>\n",
            "  <h3>\n",
            "   Hobbies\n",
            "  </h3>\n",
            "  <p>\n",
            "   Believe it or not, I don't code 24/7. I love doing all sorts of active things. I like to play ice hockey &amp; table tennis as well as run, hike, skateboard, and snowboard. In addition to sports, I am a board game enthusiast. The two that I've been playing the most recently are\n",
            "   <i>\n",
            "    Settlers of Catan\n",
            "   </i>\n",
            "   and\n",
            "   <i>\n",
            "    Othello\n",
            "   </i>\n",
            "   .\n",
            "  </p>\n",
            "  <h3>\n",
            "   Fun Facts\n",
            "  </h3>\n",
            "  <ul class=\"fun-facts\">\n",
            "   <li>\n",
            "    Owned my dream car in high school\n",
            "    <a href=\"#footer\">\n",
            "     <sup>\n",
            "      1\n",
            "     </sup>\n",
            "    </a>\n",
            "   </li>\n",
            "   <li>\n",
            "    Middle name is Ronald\n",
            "   </li>\n",
            "   <li>\n",
            "    Never had been on a plane until college\n",
            "   </li>\n",
            "   <li>\n",
            "    Dunkin Donuts coffee is better than Starbucks\n",
            "   </li>\n",
            "   <li>\n",
            "    A favorite book series of mine is\n",
            "    <i>\n",
            "     Ender's Game\n",
            "    </i>\n",
            "   </li>\n",
            "   <li>\n",
            "    Current video game of choice is\n",
            "    <i>\n",
            "     Rocket League\n",
            "    </i>\n",
            "   </li>\n",
            "   <li>\n",
            "    The band that I've seen the most times live is the\n",
            "    <i>\n",
            "     Zac Brown Band\n",
            "    </i>\n",
            "   </li>\n",
            "  </ul>\n",
            "  <h2>\n",
            "   Social Media\n",
            "  </h2>\n",
            "  I encourage you to check out my content on all social media platforms\n",
            "  <br/>\n",
            "  <ul class=\"socials\">\n",
            "   <li class=\"social instagram\">\n",
            "    <b>\n",
            "     Instagram:\n",
            "    </b>\n",
            "    <a href=\"https://www.instagram.com/keithgalli/\">\n",
            "     https://www.instagram.com/keithgalli/\n",
            "    </a>\n",
            "   </li>\n",
            "   <li class=\"social twitter\">\n",
            "    <b>\n",
            "     Twitter:\n",
            "    </b>\n",
            "    <a href=\"https://twitter.com/keithgalli\">\n",
            "     https://twitter.com/keithgalli\n",
            "    </a>\n",
            "   </li>\n",
            "   <li class=\"social linkedin\">\n",
            "    <b>\n",
            "     LinkedIn:\n",
            "    </b>\n",
            "    <a href=\"https://www.linkedin.com/in/keithgalli/\">\n",
            "     https://www.linkedin.com/in/keithgalli/\n",
            "    </a>\n",
            "   </li>\n",
            "   <li class=\"social tiktok\">\n",
            "    <b>\n",
            "     TikTok:\n",
            "    </b>\n",
            "    <a href=\"https://www.tiktok.com/@keithgalli\">\n",
            "     https://www.tiktok.com/@keithgalli\n",
            "    </a>\n",
            "   </li>\n",
            "  </ul>\n",
            "  <h2>\n",
            "   Photos\n",
            "  </h2>\n",
            "  Here are a few photos from a trip to italy I took last year\n",
            "  <div class=\"row\">\n",
            "   <div class=\"column\">\n",
            "    <img alt=\"Lake Como\" src=\"images/italy/lake_como.jpg\" style=\"height:100%\"/>\n",
            "   </div>\n",
            "   <div class=\"column\">\n",
            "    <img alt=\"Pontevecchio, Florence\" src=\"images/italy/pontevecchio.jpg\" style=\"height:100%\"/>\n",
            "   </div>\n",
            "   <div class=\"column\">\n",
            "    <img alt=\"Riomaggiore, Cinque de Terre\" src=\"images/italy/riomaggiore.jpg\" style=\"height:100%\"/>\n",
            "   </div>\n",
            "  </div>\n",
            "  <div>\n",
            "  </div>\n",
            "  <h2>\n",
            "   Table\n",
            "  </h2>\n",
            "  My MIT hockey stats :)\n",
            "  <br/>\n",
            "  <table class=\"hockey-stats\">\n",
            "   <thead>\n",
            "    <tr>\n",
            "     <th class=\"season\" data-sort=\"\">\n",
            "      S\n",
            "     </th>\n",
            "     <th class=\"team\" data-sort=\"team\">\n",
            "      Team\n",
            "     </th>\n",
            "     <th class=\"league\" data-sort=\"league\">\n",
            "      League\n",
            "     </th>\n",
            "     <th class=\"regular gp\" data-sort=\"gp\">\n",
            "      GP\n",
            "     </th>\n",
            "     <th class=\"regular g\" data-sort=\"g\">\n",
            "      G\n",
            "     </th>\n",
            "     <th class=\"regular a\" data-sort=\"a\">\n",
            "      A\n",
            "     </th>\n",
            "     <th class=\"regular tp\" data-sort=\"tp\">\n",
            "      TP\n",
            "     </th>\n",
            "     <th class=\"regular pim\" data-sort=\"pim\">\n",
            "      PIM\n",
            "     </th>\n",
            "     <th class=\"regular pm\" data-sort=\"pm\">\n",
            "      +/-\n",
            "     </th>\n",
            "     <th class=\"separator\">\n",
            "     </th>\n",
            "     <th class=\"postseason\">\n",
            "      POST\n",
            "     </th>\n",
            "     <th class=\"postseason gp\" data-sort=\"playoffs-gp\">\n",
            "      GP\n",
            "     </th>\n",
            "     <th class=\"postseason g\" data-sort=\"playoffs-g\">\n",
            "      G\n",
            "     </th>\n",
            "     <th class=\"postseason a\" data-sort=\"playoffs-a\">\n",
            "      A\n",
            "     </th>\n",
            "     <th class=\"postseason tp\" data-sort=\"playoffs-tp\">\n",
            "      TP\n",
            "     </th>\n",
            "     <th class=\"postseason pim\" data-sort=\"playoffs-pim\">\n",
            "      PIM\n",
            "     </th>\n",
            "     <th class=\"postseason pm\" data-sort=\"playoffs-pm\">\n",
            "      +/-\n",
            "     </th>\n",
            "    </tr>\n",
            "   </thead>\n",
            "   <tbody>\n",
            "    <tr class=\"team-continent-NA\">\n",
            "     <td class=\"season sorted\">\n",
            "      2014-15\n",
            "     </td>\n",
            "     <td class=\"team\">\n",
            "      <i>\n",
            "       <img src=\"images/flag.png\"/>\n",
            "      </i>\n",
            "      <span class=\"txt-blue\">\n",
            "       <a href=\"https://www.eliteprospects.com/team/10263/mit-mass.-inst.-of-tech./2014-2015?tab=stats\">\n",
            "        MIT (Mass. Inst. of Tech.)\n",
            "       </a>\n",
            "      </span>\n",
            "     </td>\n",
            "     <td class=\"league\">\n",
            "      <a href=\"https://www.eliteprospects.com/league/acha-ii/stats/2014-2015\">\n",
            "       ACHA II\n",
            "      </a>\n",
            "     </td>\n",
            "     <td class=\"regular gp\">\n",
            "      17\n",
            "     </td>\n",
            "     <td class=\"regular g\">\n",
            "      3\n",
            "     </td>\n",
            "     <td class=\"regular a\">\n",
            "      9\n",
            "     </td>\n",
            "     <td class=\"regular tp\">\n",
            "      12\n",
            "     </td>\n",
            "     <td class=\"regular pim\">\n",
            "      20\n",
            "     </td>\n",
            "     <td class=\"regular pm\">\n",
            "     </td>\n",
            "     <td class=\"separator\">\n",
            "      |\n",
            "     </td>\n",
            "     <td class=\"postseason\">\n",
            "      <a href=\"https://www.eliteprospects.com/league/acha-ii/stats/2014-2015\">\n",
            "      </a>\n",
            "     </td>\n",
            "     <td class=\"postseason gp\">\n",
            "     </td>\n",
            "     <td class=\"postseason g\">\n",
            "     </td>\n",
            "     <td class=\"postseason a\">\n",
            "     </td>\n",
            "     <td class=\"postseason tp\">\n",
            "     </td>\n",
            "     <td class=\"postseason pim\">\n",
            "     </td>\n",
            "     <td class=\"postseason pm\">\n",
            "     </td>\n",
            "    </tr>\n",
            "    <tr class=\"team-continent-NA\">\n",
            "     <td class=\"season sorted\">\n",
            "      2015-16\n",
            "     </td>\n",
            "     <td class=\"team\">\n",
            "      <i>\n",
            "       <img src=\"images/flag.png\"/>\n",
            "      </i>\n",
            "      <span class=\"txt-blue\">\n",
            "       <a href=\"https://www.eliteprospects.com/team/10263/mit-mass.-inst.-of-tech./2015-2016?tab=stats\">\n",
            "        MIT (Mass. Inst. of Tech.)\n",
            "       </a>\n",
            "      </span>\n",
            "     </td>\n",
            "     <td class=\"league\">\n",
            "      <a href=\"https://www.eliteprospects.com/league/acha-ii/stats/2015-2016\">\n",
            "       ACHA II\n",
            "      </a>\n",
            "     </td>\n",
            "     <td class=\"regular gp\">\n",
            "      9\n",
            "     </td>\n",
            "     <td class=\"regular g\">\n",
            "      1\n",
            "     </td>\n",
            "     <td class=\"regular a\">\n",
            "      1\n",
            "     </td>\n",
            "     <td class=\"regular tp\">\n",
            "      2\n",
            "     </td>\n",
            "     <td class=\"regular pim\">\n",
            "      2\n",
            "     </td>\n",
            "     <td class=\"regular pm\">\n",
            "     </td>\n",
            "     <td class=\"separator\">\n",
            "      |\n",
            "     </td>\n",
            "     <td class=\"postseason\">\n",
            "      <a href=\"https://www.eliteprospects.com/league/acha-ii/stats/2015-2016\">\n",
            "      </a>\n",
            "     </td>\n",
            "     <td class=\"postseason gp\">\n",
            "     </td>\n",
            "     <td class=\"postseason g\">\n",
            "     </td>\n",
            "     <td class=\"postseason a\">\n",
            "     </td>\n",
            "     <td class=\"postseason tp\">\n",
            "     </td>\n",
            "     <td class=\"postseason pim\">\n",
            "     </td>\n",
            "     <td class=\"postseason pm\">\n",
            "     </td>\n",
            "    </tr>\n",
            "    <tr class=\"team-continent-NA\">\n",
            "     <td class=\"season sorted\">\n",
            "      2016-17\n",
            "     </td>\n",
            "     <td class=\"team\">\n",
            "      <i>\n",
            "       <img src=\"images/flag.png\"/>\n",
            "      </i>\n",
            "      <span class=\"txt-blue\">\n",
            "       <a href=\"https://www.eliteprospects.com/team/10263/mit-mass.-inst.-of-tech./2016-2017?tab=stats\">\n",
            "        MIT (Mass. Inst. of Tech.)\n",
            "       </a>\n",
            "      </span>\n",
            "     </td>\n",
            "     <td class=\"league\">\n",
            "      <a href=\"https://www.eliteprospects.com/league/acha-ii/stats/2016-2017\">\n",
            "       ACHA II\n",
            "      </a>\n",
            "     </td>\n",
            "     <td class=\"regular gp\">\n",
            "      12\n",
            "     </td>\n",
            "     <td class=\"regular g\">\n",
            "      5\n",
            "     </td>\n",
            "     <td class=\"regular a\">\n",
            "      5\n",
            "     </td>\n",
            "     <td class=\"regular tp\">\n",
            "      10\n",
            "     </td>\n",
            "     <td class=\"regular pim\">\n",
            "      8\n",
            "     </td>\n",
            "     <td class=\"regular pm\">\n",
            "      0\n",
            "     </td>\n",
            "     <td class=\"separator\">\n",
            "      |\n",
            "     </td>\n",
            "     <td class=\"postseason\">\n",
            "     </td>\n",
            "     <td class=\"postseason gp\">\n",
            "     </td>\n",
            "     <td class=\"postseason g\">\n",
            "     </td>\n",
            "     <td class=\"postseason a\">\n",
            "     </td>\n",
            "     <td class=\"postseason tp\">\n",
            "     </td>\n",
            "     <td class=\"postseason pim\">\n",
            "     </td>\n",
            "     <td class=\"postseason pm\">\n",
            "     </td>\n",
            "    </tr>\n",
            "    <tr class=\"team-continent-EU\">\n",
            "     <td class=\"season sorted\">\n",
            "      2017-18\n",
            "     </td>\n",
            "     <td class=\"team\">\n",
            "      Did not play\n",
            "     </td>\n",
            "     <td class=\"league\">\n",
            "      <a href=\"https://www.eliteprospects.com/stats\">\n",
            "      </a>\n",
            "     </td>\n",
            "     <td class=\"regular gp\">\n",
            "     </td>\n",
            "     <td class=\"regular g\">\n",
            "     </td>\n",
            "     <td class=\"regular a\">\n",
            "     </td>\n",
            "     <td class=\"regular tp\">\n",
            "     </td>\n",
            "     <td class=\"regular pim\">\n",
            "     </td>\n",
            "     <td class=\"regular pm\">\n",
            "     </td>\n",
            "     <td class=\"separator\">\n",
            "      |\n",
            "     </td>\n",
            "     <td class=\"postseason\">\n",
            "      <a href=\"https://www.eliteprospects.com/stats\">\n",
            "      </a>\n",
            "     </td>\n",
            "     <td class=\"postseason gp\">\n",
            "     </td>\n",
            "     <td class=\"postseason g\">\n",
            "     </td>\n",
            "     <td class=\"postseason a\">\n",
            "     </td>\n",
            "     <td class=\"postseason tp\">\n",
            "     </td>\n",
            "     <td class=\"postseason pim\">\n",
            "     </td>\n",
            "     <td class=\"postseason pm\">\n",
            "     </td>\n",
            "    </tr>\n",
            "    <tr class=\"team-continent-NA\">\n",
            "     <td class=\"season sorted\">\n",
            "      2018-19\n",
            "     </td>\n",
            "     <td class=\"team\">\n",
            "      <i>\n",
            "       <img src=\"images/flag.png\"/>\n",
            "      </i>\n",
            "      <span class=\"txt-blue\">\n",
            "       <a href=\"https://www.eliteprospects.com/team/10263/mit-mass.-inst.-of-tech./2018-2019?tab=stats\">\n",
            "        MIT (Mass. Inst. of Tech.)\n",
            "       </a>\n",
            "      </span>\n",
            "     </td>\n",
            "     <td class=\"league\">\n",
            "      <a href=\"https://www.eliteprospects.com/league/acha-iii/stats/2018-2019\">\n",
            "       ACHA III\n",
            "      </a>\n",
            "     </td>\n",
            "     <td class=\"regular gp\">\n",
            "      8\n",
            "     </td>\n",
            "     <td class=\"regular g\">\n",
            "      5\n",
            "     </td>\n",
            "     <td class=\"regular a\">\n",
            "      10\n",
            "     </td>\n",
            "     <td class=\"regular tp\">\n",
            "      15\n",
            "     </td>\n",
            "     <td class=\"regular pim\">\n",
            "      8\n",
            "     </td>\n",
            "     <td class=\"regular pm\">\n",
            "     </td>\n",
            "     <td class=\"separator\">\n",
            "      |\n",
            "     </td>\n",
            "     <td class=\"postseason\">\n",
            "      <a href=\"https://www.eliteprospects.com/league/acha-iii/stats/2018-2019\">\n",
            "      </a>\n",
            "     </td>\n",
            "     <td class=\"postseason gp\">\n",
            "     </td>\n",
            "     <td class=\"postseason g\">\n",
            "     </td>\n",
            "     <td class=\"postseason a\">\n",
            "     </td>\n",
            "     <td class=\"postseason tp\">\n",
            "     </td>\n",
            "     <td class=\"postseason pim\">\n",
            "     </td>\n",
            "     <td class=\"postseason pm\">\n",
            "     </td>\n",
            "    </tr>\n",
            "   </tbody>\n",
            "  </table>\n",
            "  <h2>\n",
            "   Mystery Message Challenge!\n",
            "  </h2>\n",
            "  <p>\n",
            "   If you scrape the links below grabbing the &lt;p&gt; tag with id=\"secret-word\", you'll discover a secret message :)\n",
            "  </p>\n",
            "  <div width=\"50%\">\n",
            "   <div align=\"left\" class=\"block\">\n",
            "    <ul>\n",
            "     <li>\n",
            "      <a href=\"challenge/file_1.html\">\n",
            "       File 1\n",
            "      </a>\n",
            "     </li>\n",
            "     <li>\n",
            "      <a href=\"challenge/file_2.html\">\n",
            "       File 2\n",
            "      </a>\n",
            "     </li>\n",
            "     <li>\n",
            "      <a href=\"challenge/file_3.html\">\n",
            "       File 3\n",
            "      </a>\n",
            "     </li>\n",
            "     <li>\n",
            "      <a href=\"challenge/file_4.html\">\n",
            "       File 4\n",
            "      </a>\n",
            "     </li>\n",
            "     <li>\n",
            "      <a href=\"challenge/file_5.html\">\n",
            "       File 5\n",
            "      </a>\n",
            "     </li>\n",
            "    </ul>\n",
            "   </div>\n",
            "   <div align=\"center\" class=\"block\">\n",
            "    <ul>\n",
            "     <li>\n",
            "      <a href=\"challenge/file_6.html\">\n",
            "       File 6\n",
            "      </a>\n",
            "     </li>\n",
            "     <li>\n",
            "      <a href=\"challenge/file_7.html\">\n",
            "       File 7\n",
            "      </a>\n",
            "     </li>\n",
            "     <li>\n",
            "      <a href=\"challenge/file_8.html\">\n",
            "       File 8\n",
            "      </a>\n",
            "     </li>\n",
            "     <li>\n",
            "      <a href=\"challenge/file_9.html\">\n",
            "       File 9\n",
            "      </a>\n",
            "     </li>\n",
            "     <li>\n",
            "      <a href=\"challenge/file_10.html\">\n",
            "       File 10\n",
            "      </a>\n",
            "     </li>\n",
            "    </ul>\n",
            "   </div>\n",
            "  </div>\n",
            "  <h2>\n",
            "   Footnotes\n",
            "  </h2>\n",
            "  <p id=\"footer\">\n",
            "   1. This was actually a minivan that I named Debora. Maybe not my dream car, but I loved her nonetheless.\n",
            "  </p>\n",
            " </body>\n",
            "</html>\n",
            "\n"
          ]
        }
      ]
    },
    {
      "cell_type": "markdown",
      "source": [
        "# 1. Grabbing the social links from the webpage\n",
        "\n",
        "### 3 different ways"
      ],
      "metadata": {
        "id": "55VMXOYBrTQk"
      }
    },
    {
      "cell_type": "code",
      "source": [
        "# 1 way\n",
        "\n",
        "links=webpage.select(\"ul.socials a\")\n",
        "actual_links=[link[\"href\"] for link in links]\n",
        "actual_links"
      ],
      "metadata": {
        "colab": {
          "base_uri": "https://localhost:8080/"
        },
        "id": "gZfEJYvSrafg",
        "outputId": "3fe708b7-3db6-4e00-9e3f-9362c3615a49"
      },
      "execution_count": 106,
      "outputs": [
        {
          "output_type": "execute_result",
          "data": {
            "text/plain": [
              "['https://www.instagram.com/keithgalli/',\n",
              " 'https://twitter.com/keithgalli',\n",
              " 'https://www.linkedin.com/in/keithgalli/',\n",
              " 'https://www.tiktok.com/@keithgalli']"
            ]
          },
          "metadata": {},
          "execution_count": 106
        }
      ]
    },
    {
      "cell_type": "code",
      "source": [
        "# 2 way\n",
        "\n",
        "ullinks=webpage.find(\"ul\",attrs={'class':'socials'})\n",
        "links=ullinks.find_all(\"a\")\n",
        "actual_links=[link['href']for link in links]\n",
        "actual_links"
      ],
      "metadata": {
        "colab": {
          "base_uri": "https://localhost:8080/"
        },
        "id": "dhUDOiz3rpr5",
        "outputId": "d11fe615-4760-46df-9509-fc134410f86e"
      },
      "execution_count": 119,
      "outputs": [
        {
          "output_type": "execute_result",
          "data": {
            "text/plain": [
              "['https://www.instagram.com/keithgalli/',\n",
              " 'https://twitter.com/keithgalli',\n",
              " 'https://www.linkedin.com/in/keithgalli/',\n",
              " 'https://www.tiktok.com/@keithgalli']"
            ]
          },
          "metadata": {},
          "execution_count": 119
        }
      ]
    },
    {
      "cell_type": "code",
      "source": [
        "# 3 way\n",
        "\n",
        "links=webpage.select(\"ul.socials a\")\n",
        "actual_links=[link['href'] for link in links]\n",
        "actual_links"
      ],
      "metadata": {
        "colab": {
          "base_uri": "https://localhost:8080/"
        },
        "id": "OaGkqvDdt01k",
        "outputId": "9a23b6ad-62ee-4c5b-baba-372d1ab00f9c"
      },
      "execution_count": 120,
      "outputs": [
        {
          "output_type": "execute_result",
          "data": {
            "text/plain": [
              "['https://www.instagram.com/keithgalli/',\n",
              " 'https://twitter.com/keithgalli',\n",
              " 'https://www.linkedin.com/in/keithgalli/',\n",
              " 'https://www.tiktok.com/@keithgalli']"
            ]
          },
          "metadata": {},
          "execution_count": 120
        }
      ]
    },
    {
      "cell_type": "markdown",
      "source": [
        "# 2.scraping the table from a webpage"
      ],
      "metadata": {
        "id": "UiBSwxJEvzGe"
      }
    },
    {
      "cell_type": "code",
      "source": [
        "import pandas as pd\n",
        "\n",
        "table=webpage.select(\"table.hockey-stats\")[0]\n",
        "#table\n",
        "columns=table.find('thead').find_all('th')\n",
        "#print(columns)\n",
        "column_name=[c.string for c in columns]  # c.string returns the content from the tag\n",
        "#column_name\n",
        "table_rows=table.find(\"tbody\").find_all('tr')\n",
        "l=[]\n",
        "for tr in table_rows:\n",
        "  td=tr.find_all('td')\n",
        "  row=[str(tr.get_text()).strip() for tr in td]\n",
        "  l.append(row)\n",
        "\n",
        "df=pd.DataFrame(l,columns=column_name)\n",
        "df.head()\n",
        "\n",
        "df.loc[df['Team']!=\"Did not play\"]"
      ],
      "metadata": {
        "colab": {
          "base_uri": "https://localhost:8080/",
          "height": 175
        },
        "id": "w_5fZZAkwIF7",
        "outputId": "624d954e-14fd-4cb7-9976-d463014981dc"
      },
      "execution_count": 142,
      "outputs": [
        {
          "output_type": "execute_result",
          "data": {
            "text/plain": [
              "         S                        Team    League  GP  G   A  TP PIM +/-     \\\n",
              "0  2014-15  MIT (Mass. Inst. of Tech.)   ACHA II  17  3   9  12  20      |   \n",
              "1  2015-16  MIT (Mass. Inst. of Tech.)   ACHA II   9  1   1   2   2      |   \n",
              "2  2016-17  MIT (Mass. Inst. of Tech.)   ACHA II  12  5   5  10   8   0  |   \n",
              "4  2018-19  MIT (Mass. Inst. of Tech.)  ACHA III   8  5  10  15   8      |   \n",
              "\n",
              "  POST GP G A TP PIM +/-  \n",
              "0                         \n",
              "1                         \n",
              "2                         \n",
              "4                         "
            ],
            "text/html": [
              "\n",
              "  <div id=\"df-b0ed2ee2-2942-401b-b075-ed47cd26b01d\" class=\"colab-df-container\">\n",
              "    <div>\n",
              "<style scoped>\n",
              "    .dataframe tbody tr th:only-of-type {\n",
              "        vertical-align: middle;\n",
              "    }\n",
              "\n",
              "    .dataframe tbody tr th {\n",
              "        vertical-align: top;\n",
              "    }\n",
              "\n",
              "    .dataframe thead th {\n",
              "        text-align: right;\n",
              "    }\n",
              "</style>\n",
              "<table border=\"1\" class=\"dataframe\">\n",
              "  <thead>\n",
              "    <tr style=\"text-align: right;\">\n",
              "      <th></th>\n",
              "      <th>S</th>\n",
              "      <th>Team</th>\n",
              "      <th>League</th>\n",
              "      <th>GP</th>\n",
              "      <th>G</th>\n",
              "      <th>A</th>\n",
              "      <th>TP</th>\n",
              "      <th>PIM</th>\n",
              "      <th>+/-</th>\n",
              "      <th></th>\n",
              "      <th>POST</th>\n",
              "      <th>GP</th>\n",
              "      <th>G</th>\n",
              "      <th>A</th>\n",
              "      <th>TP</th>\n",
              "      <th>PIM</th>\n",
              "      <th>+/-</th>\n",
              "    </tr>\n",
              "  </thead>\n",
              "  <tbody>\n",
              "    <tr>\n",
              "      <th>0</th>\n",
              "      <td>2014-15</td>\n",
              "      <td>MIT (Mass. Inst. of Tech.)</td>\n",
              "      <td>ACHA II</td>\n",
              "      <td>17</td>\n",
              "      <td>3</td>\n",
              "      <td>9</td>\n",
              "      <td>12</td>\n",
              "      <td>20</td>\n",
              "      <td></td>\n",
              "      <td>|</td>\n",
              "      <td></td>\n",
              "      <td></td>\n",
              "      <td></td>\n",
              "      <td></td>\n",
              "      <td></td>\n",
              "      <td></td>\n",
              "      <td></td>\n",
              "    </tr>\n",
              "    <tr>\n",
              "      <th>1</th>\n",
              "      <td>2015-16</td>\n",
              "      <td>MIT (Mass. Inst. of Tech.)</td>\n",
              "      <td>ACHA II</td>\n",
              "      <td>9</td>\n",
              "      <td>1</td>\n",
              "      <td>1</td>\n",
              "      <td>2</td>\n",
              "      <td>2</td>\n",
              "      <td></td>\n",
              "      <td>|</td>\n",
              "      <td></td>\n",
              "      <td></td>\n",
              "      <td></td>\n",
              "      <td></td>\n",
              "      <td></td>\n",
              "      <td></td>\n",
              "      <td></td>\n",
              "    </tr>\n",
              "    <tr>\n",
              "      <th>2</th>\n",
              "      <td>2016-17</td>\n",
              "      <td>MIT (Mass. Inst. of Tech.)</td>\n",
              "      <td>ACHA II</td>\n",
              "      <td>12</td>\n",
              "      <td>5</td>\n",
              "      <td>5</td>\n",
              "      <td>10</td>\n",
              "      <td>8</td>\n",
              "      <td>0</td>\n",
              "      <td>|</td>\n",
              "      <td></td>\n",
              "      <td></td>\n",
              "      <td></td>\n",
              "      <td></td>\n",
              "      <td></td>\n",
              "      <td></td>\n",
              "      <td></td>\n",
              "    </tr>\n",
              "    <tr>\n",
              "      <th>4</th>\n",
              "      <td>2018-19</td>\n",
              "      <td>MIT (Mass. Inst. of Tech.)</td>\n",
              "      <td>ACHA III</td>\n",
              "      <td>8</td>\n",
              "      <td>5</td>\n",
              "      <td>10</td>\n",
              "      <td>15</td>\n",
              "      <td>8</td>\n",
              "      <td></td>\n",
              "      <td>|</td>\n",
              "      <td></td>\n",
              "      <td></td>\n",
              "      <td></td>\n",
              "      <td></td>\n",
              "      <td></td>\n",
              "      <td></td>\n",
              "      <td></td>\n",
              "    </tr>\n",
              "  </tbody>\n",
              "</table>\n",
              "</div>\n",
              "    <div class=\"colab-df-buttons\">\n",
              "\n",
              "  <div class=\"colab-df-container\">\n",
              "    <button class=\"colab-df-convert\" onclick=\"convertToInteractive('df-b0ed2ee2-2942-401b-b075-ed47cd26b01d')\"\n",
              "            title=\"Convert this dataframe to an interactive table.\"\n",
              "            style=\"display:none;\">\n",
              "\n",
              "  <svg xmlns=\"http://www.w3.org/2000/svg\" height=\"24px\" viewBox=\"0 -960 960 960\">\n",
              "    <path d=\"M120-120v-720h720v720H120Zm60-500h600v-160H180v160Zm220 220h160v-160H400v160Zm0 220h160v-160H400v160ZM180-400h160v-160H180v160Zm440 0h160v-160H620v160ZM180-180h160v-160H180v160Zm440 0h160v-160H620v160Z\"/>\n",
              "  </svg>\n",
              "    </button>\n",
              "\n",
              "  <style>\n",
              "    .colab-df-container {\n",
              "      display:flex;\n",
              "      gap: 12px;\n",
              "    }\n",
              "\n",
              "    .colab-df-convert {\n",
              "      background-color: #E8F0FE;\n",
              "      border: none;\n",
              "      border-radius: 50%;\n",
              "      cursor: pointer;\n",
              "      display: none;\n",
              "      fill: #1967D2;\n",
              "      height: 32px;\n",
              "      padding: 0 0 0 0;\n",
              "      width: 32px;\n",
              "    }\n",
              "\n",
              "    .colab-df-convert:hover {\n",
              "      background-color: #E2EBFA;\n",
              "      box-shadow: 0px 1px 2px rgba(60, 64, 67, 0.3), 0px 1px 3px 1px rgba(60, 64, 67, 0.15);\n",
              "      fill: #174EA6;\n",
              "    }\n",
              "\n",
              "    .colab-df-buttons div {\n",
              "      margin-bottom: 4px;\n",
              "    }\n",
              "\n",
              "    [theme=dark] .colab-df-convert {\n",
              "      background-color: #3B4455;\n",
              "      fill: #D2E3FC;\n",
              "    }\n",
              "\n",
              "    [theme=dark] .colab-df-convert:hover {\n",
              "      background-color: #434B5C;\n",
              "      box-shadow: 0px 1px 3px 1px rgba(0, 0, 0, 0.15);\n",
              "      filter: drop-shadow(0px 1px 2px rgba(0, 0, 0, 0.3));\n",
              "      fill: #FFFFFF;\n",
              "    }\n",
              "  </style>\n",
              "\n",
              "    <script>\n",
              "      const buttonEl =\n",
              "        document.querySelector('#df-b0ed2ee2-2942-401b-b075-ed47cd26b01d button.colab-df-convert');\n",
              "      buttonEl.style.display =\n",
              "        google.colab.kernel.accessAllowed ? 'block' : 'none';\n",
              "\n",
              "      async function convertToInteractive(key) {\n",
              "        const element = document.querySelector('#df-b0ed2ee2-2942-401b-b075-ed47cd26b01d');\n",
              "        const dataTable =\n",
              "          await google.colab.kernel.invokeFunction('convertToInteractive',\n",
              "                                                    [key], {});\n",
              "        if (!dataTable) return;\n",
              "\n",
              "        const docLinkHtml = 'Like what you see? Visit the ' +\n",
              "          '<a target=\"_blank\" href=https://colab.research.google.com/notebooks/data_table.ipynb>data table notebook</a>'\n",
              "          + ' to learn more about interactive tables.';\n",
              "        element.innerHTML = '';\n",
              "        dataTable['output_type'] = 'display_data';\n",
              "        await google.colab.output.renderOutput(dataTable, element);\n",
              "        const docLink = document.createElement('div');\n",
              "        docLink.innerHTML = docLinkHtml;\n",
              "        element.appendChild(docLink);\n",
              "      }\n",
              "    </script>\n",
              "  </div>\n",
              "\n",
              "\n",
              "<div id=\"df-a9e79c25-44d3-409b-935e-e491ed5d80fc\">\n",
              "  <button class=\"colab-df-quickchart\" onclick=\"quickchart('df-a9e79c25-44d3-409b-935e-e491ed5d80fc')\"\n",
              "            title=\"Suggest charts\"\n",
              "            style=\"display:none;\">\n",
              "\n",
              "<svg xmlns=\"http://www.w3.org/2000/svg\" height=\"24px\"viewBox=\"0 0 24 24\"\n",
              "     width=\"24px\">\n",
              "    <g>\n",
              "        <path d=\"M19 3H5c-1.1 0-2 .9-2 2v14c0 1.1.9 2 2 2h14c1.1 0 2-.9 2-2V5c0-1.1-.9-2-2-2zM9 17H7v-7h2v7zm4 0h-2V7h2v10zm4 0h-2v-4h2v4z\"/>\n",
              "    </g>\n",
              "</svg>\n",
              "  </button>\n",
              "\n",
              "<style>\n",
              "  .colab-df-quickchart {\n",
              "      --bg-color: #E8F0FE;\n",
              "      --fill-color: #1967D2;\n",
              "      --hover-bg-color: #E2EBFA;\n",
              "      --hover-fill-color: #174EA6;\n",
              "      --disabled-fill-color: #AAA;\n",
              "      --disabled-bg-color: #DDD;\n",
              "  }\n",
              "\n",
              "  [theme=dark] .colab-df-quickchart {\n",
              "      --bg-color: #3B4455;\n",
              "      --fill-color: #D2E3FC;\n",
              "      --hover-bg-color: #434B5C;\n",
              "      --hover-fill-color: #FFFFFF;\n",
              "      --disabled-bg-color: #3B4455;\n",
              "      --disabled-fill-color: #666;\n",
              "  }\n",
              "\n",
              "  .colab-df-quickchart {\n",
              "    background-color: var(--bg-color);\n",
              "    border: none;\n",
              "    border-radius: 50%;\n",
              "    cursor: pointer;\n",
              "    display: none;\n",
              "    fill: var(--fill-color);\n",
              "    height: 32px;\n",
              "    padding: 0;\n",
              "    width: 32px;\n",
              "  }\n",
              "\n",
              "  .colab-df-quickchart:hover {\n",
              "    background-color: var(--hover-bg-color);\n",
              "    box-shadow: 0 1px 2px rgba(60, 64, 67, 0.3), 0 1px 3px 1px rgba(60, 64, 67, 0.15);\n",
              "    fill: var(--button-hover-fill-color);\n",
              "  }\n",
              "\n",
              "  .colab-df-quickchart-complete:disabled,\n",
              "  .colab-df-quickchart-complete:disabled:hover {\n",
              "    background-color: var(--disabled-bg-color);\n",
              "    fill: var(--disabled-fill-color);\n",
              "    box-shadow: none;\n",
              "  }\n",
              "\n",
              "  .colab-df-spinner {\n",
              "    border: 2px solid var(--fill-color);\n",
              "    border-color: transparent;\n",
              "    border-bottom-color: var(--fill-color);\n",
              "    animation:\n",
              "      spin 1s steps(1) infinite;\n",
              "  }\n",
              "\n",
              "  @keyframes spin {\n",
              "    0% {\n",
              "      border-color: transparent;\n",
              "      border-bottom-color: var(--fill-color);\n",
              "      border-left-color: var(--fill-color);\n",
              "    }\n",
              "    20% {\n",
              "      border-color: transparent;\n",
              "      border-left-color: var(--fill-color);\n",
              "      border-top-color: var(--fill-color);\n",
              "    }\n",
              "    30% {\n",
              "      border-color: transparent;\n",
              "      border-left-color: var(--fill-color);\n",
              "      border-top-color: var(--fill-color);\n",
              "      border-right-color: var(--fill-color);\n",
              "    }\n",
              "    40% {\n",
              "      border-color: transparent;\n",
              "      border-right-color: var(--fill-color);\n",
              "      border-top-color: var(--fill-color);\n",
              "    }\n",
              "    60% {\n",
              "      border-color: transparent;\n",
              "      border-right-color: var(--fill-color);\n",
              "    }\n",
              "    80% {\n",
              "      border-color: transparent;\n",
              "      border-right-color: var(--fill-color);\n",
              "      border-bottom-color: var(--fill-color);\n",
              "    }\n",
              "    90% {\n",
              "      border-color: transparent;\n",
              "      border-bottom-color: var(--fill-color);\n",
              "    }\n",
              "  }\n",
              "</style>\n",
              "\n",
              "  <script>\n",
              "    async function quickchart(key) {\n",
              "      const quickchartButtonEl =\n",
              "        document.querySelector('#' + key + ' button');\n",
              "      quickchartButtonEl.disabled = true;  // To prevent multiple clicks.\n",
              "      quickchartButtonEl.classList.add('colab-df-spinner');\n",
              "      try {\n",
              "        const charts = await google.colab.kernel.invokeFunction(\n",
              "            'suggestCharts', [key], {});\n",
              "      } catch (error) {\n",
              "        console.error('Error during call to suggestCharts:', error);\n",
              "      }\n",
              "      quickchartButtonEl.classList.remove('colab-df-spinner');\n",
              "      quickchartButtonEl.classList.add('colab-df-quickchart-complete');\n",
              "    }\n",
              "    (() => {\n",
              "      let quickchartButtonEl =\n",
              "        document.querySelector('#df-a9e79c25-44d3-409b-935e-e491ed5d80fc button');\n",
              "      quickchartButtonEl.style.display =\n",
              "        google.colab.kernel.accessAllowed ? 'block' : 'none';\n",
              "    })();\n",
              "  </script>\n",
              "</div>\n",
              "\n",
              "    </div>\n",
              "  </div>\n"
            ],
            "application/vnd.google.colaboratory.intrinsic+json": {
              "type": "dataframe",
              "summary": "{\n  \"name\": \"df\",\n  \"rows\": 4,\n  \"fields\": [\n    {\n      \"column\": \"S\",\n      \"properties\": {\n        \"dtype\": \"string\",\n        \"num_unique_values\": 4,\n        \"samples\": [\n          \"2015-16\",\n          \"2018-19\",\n          \"2014-15\"\n        ],\n        \"semantic_type\": \"\",\n        \"description\": \"\"\n      }\n    },\n    {\n      \"column\": \"Team\",\n      \"properties\": {\n        \"dtype\": \"category\",\n        \"num_unique_values\": 1,\n        \"samples\": [\n          \"MIT (Mass. Inst. of Tech.)\"\n        ],\n        \"semantic_type\": \"\",\n        \"description\": \"\"\n      }\n    },\n    {\n      \"column\": \"League\",\n      \"properties\": {\n        \"dtype\": \"string\",\n        \"num_unique_values\": 2,\n        \"samples\": [\n          \"ACHA III\"\n        ],\n        \"semantic_type\": \"\",\n        \"description\": \"\"\n      }\n    },\n    {\n      \"column\": \"GP\",\n      \"properties\": {\n        \"dtype\": \"string\",\n        \"num_unique_values\": 4,\n        \"samples\": [\n          \"9\"\n        ],\n        \"semantic_type\": \"\",\n        \"description\": \"\"\n      }\n    },\n    {\n      \"column\": \"G\",\n      \"properties\": {\n        \"dtype\": \"string\",\n        \"num_unique_values\": 3,\n        \"samples\": [\n          \"3\"\n        ],\n        \"semantic_type\": \"\",\n        \"description\": \"\"\n      }\n    },\n    {\n      \"column\": \"A\",\n      \"properties\": {\n        \"dtype\": \"string\",\n        \"num_unique_values\": 4,\n        \"samples\": [\n          \"1\"\n        ],\n        \"semantic_type\": \"\",\n        \"description\": \"\"\n      }\n    },\n    {\n      \"column\": \"TP\",\n      \"properties\": {\n        \"dtype\": \"string\",\n        \"num_unique_values\": 4,\n        \"samples\": [\n          \"2\"\n        ],\n        \"semantic_type\": \"\",\n        \"description\": \"\"\n      }\n    },\n    {\n      \"column\": \"PIM\",\n      \"properties\": {\n        \"dtype\": \"string\",\n        \"num_unique_values\": 3,\n        \"samples\": [\n          \"20\"\n        ],\n        \"semantic_type\": \"\",\n        \"description\": \"\"\n      }\n    },\n    {\n      \"column\": \"+/-\",\n      \"properties\": {\n        \"dtype\": \"string\",\n        \"num_unique_values\": 2,\n        \"samples\": [\n          \"0\"\n        ],\n        \"semantic_type\": \"\",\n        \"description\": \"\"\n      }\n    },\n    {\n      \"column\": \"\\u00a0\",\n      \"properties\": {\n        \"dtype\": \"category\",\n        \"num_unique_values\": 1,\n        \"samples\": [\n          \"|\"\n        ],\n        \"semantic_type\": \"\",\n        \"description\": \"\"\n      }\n    },\n    {\n      \"column\": \"POST\",\n      \"properties\": {\n        \"dtype\": \"object\",\n        \"num_unique_values\": 1,\n        \"samples\": [\n          \"\"\n        ],\n        \"semantic_type\": \"\",\n        \"description\": \"\"\n      }\n    },\n    {\n      \"column\": \"GP\",\n      \"properties\": {\n        \"dtype\": \"object\",\n        \"num_unique_values\": 1,\n        \"samples\": [\n          \"\"\n        ],\n        \"semantic_type\": \"\",\n        \"description\": \"\"\n      }\n    },\n    {\n      \"column\": \"G\",\n      \"properties\": {\n        \"dtype\": \"object\",\n        \"num_unique_values\": 1,\n        \"samples\": [\n          \"\"\n        ],\n        \"semantic_type\": \"\",\n        \"description\": \"\"\n      }\n    },\n    {\n      \"column\": \"A\",\n      \"properties\": {\n        \"dtype\": \"object\",\n        \"num_unique_values\": 1,\n        \"samples\": [\n          \"\"\n        ],\n        \"semantic_type\": \"\",\n        \"description\": \"\"\n      }\n    },\n    {\n      \"column\": \"TP\",\n      \"properties\": {\n        \"dtype\": \"object\",\n        \"num_unique_values\": 1,\n        \"samples\": [\n          \"\"\n        ],\n        \"semantic_type\": \"\",\n        \"description\": \"\"\n      }\n    },\n    {\n      \"column\": \"PIM\",\n      \"properties\": {\n        \"dtype\": \"object\",\n        \"num_unique_values\": 1,\n        \"samples\": [\n          \"\"\n        ],\n        \"semantic_type\": \"\",\n        \"description\": \"\"\n      }\n    },\n    {\n      \"column\": \"+/-\",\n      \"properties\": {\n        \"dtype\": \"object\",\n        \"num_unique_values\": 1,\n        \"samples\": [\n          \"\"\n        ],\n        \"semantic_type\": \"\",\n        \"description\": \"\"\n      }\n    }\n  ]\n}"
            }
          },
          "metadata": {},
          "execution_count": 142
        }
      ]
    },
    {
      "cell_type": "markdown",
      "source": [
        "### 3. Grabing all fun facts containing \"is\""
      ],
      "metadata": {
        "id": "UkDtu2g52-MU"
      }
    },
    {
      "cell_type": "code",
      "source": [
        "import re\n",
        "\n",
        "facts=webpage.select(\"ul.fun-facts li\")\n",
        "facts\n",
        "is_fact=[fact.find(string=re.compile(\"is\")) for fact in facts]\n",
        "is_fact=[fact.find_parent().get_text() for fact in is_fact if fact]\n",
        "is_fact"
      ],
      "metadata": {
        "colab": {
          "base_uri": "https://localhost:8080/"
        },
        "id": "PmbumrgjzAWT",
        "outputId": "f032be68-df39-4156-f05f-df892d2bbfc3"
      },
      "execution_count": 160,
      "outputs": [
        {
          "output_type": "execute_result",
          "data": {
            "text/plain": [
              "['Middle name is Ronald',\n",
              " 'Dunkin Donuts coffee is better than Starbucks',\n",
              " \"A favorite book series of mine is Ender's Game\",\n",
              " 'Current video game of choice is Rocket League',\n",
              " \"The band that I've seen the most times live is the Zac Brown Band\"]"
            ]
          },
          "metadata": {},
          "execution_count": 160
        }
      ]
    },
    {
      "cell_type": "markdown",
      "source": [
        "# 4.Downloading images from the webpage"
      ],
      "metadata": {
        "id": "dTYTcigO6Y8D"
      }
    },
    {
      "cell_type": "code",
      "source": [
        "url=\"https://keithgalli.github.io/web-scraping/\"\n",
        "r=requests.get(url+\"webpage.html\")"
      ],
      "metadata": {
        "id": "3rgcSlAI7UQn"
      },
      "execution_count": 166,
      "outputs": []
    },
    {
      "cell_type": "code",
      "source": [
        "img=webpage.select(\"div.row div.column img\")\n",
        "img"
      ],
      "metadata": {
        "colab": {
          "base_uri": "https://localhost:8080/"
        },
        "id": "xCkr8-Xn5NLJ",
        "outputId": "6e734a81-3805-406a-e617-1e373e1ecf78"
      },
      "execution_count": 162,
      "outputs": [
        {
          "output_type": "execute_result",
          "data": {
            "text/plain": [
              "[<img alt=\"Lake Como\" src=\"images/italy/lake_como.jpg\" style=\"height:100%\"/>,\n",
              " <img alt=\"Pontevecchio, Florence\" src=\"images/italy/pontevecchio.jpg\" style=\"height:100%\"/>,\n",
              " <img alt=\"Riomaggiore, Cinque de Terre\" src=\"images/italy/riomaggiore.jpg\" style=\"height:100%\"/>]"
            ]
          },
          "metadata": {},
          "execution_count": 162
        }
      ]
    },
    {
      "cell_type": "code",
      "source": [
        "images=img[0]['src']\n",
        "images"
      ],
      "metadata": {
        "colab": {
          "base_uri": "https://localhost:8080/",
          "height": 36
        },
        "id": "o49qmr997IUo",
        "outputId": "50839859-849a-4614-f859-90ea4eba0603"
      },
      "execution_count": 164,
      "outputs": [
        {
          "output_type": "execute_result",
          "data": {
            "text/plain": [
              "'images/italy/lake_como.jpg'"
            ],
            "application/vnd.google.colaboratory.intrinsic+json": {
              "type": "string"
            }
          },
          "metadata": {},
          "execution_count": 164
        }
      ]
    },
    {
      "cell_type": "code",
      "source": [
        "full_url=url+images\n",
        "full_url"
      ],
      "metadata": {
        "colab": {
          "base_uri": "https://localhost:8080/",
          "height": 36
        },
        "id": "QHDJTk8A7tLK",
        "outputId": "2ec96dd3-82ce-4c95-ae39-3d26730ee655"
      },
      "execution_count": 167,
      "outputs": [
        {
          "output_type": "execute_result",
          "data": {
            "text/plain": [
              "'https://keithgalli.github.io/web-scraping/images/italy/lake_como.jpg'"
            ],
            "application/vnd.google.colaboratory.intrinsic+json": {
              "type": "string"
            }
          },
          "metadata": {},
          "execution_count": 167
        }
      ]
    },
    {
      "cell_type": "code",
      "source": [
        "img_data=requests.get(full_url).content\n",
        "with open('lake_como.jpg','wb') as handler:\n",
        "  handler.write(img_data)"
      ],
      "metadata": {
        "id": "3e_wg9EZ8yaj"
      },
      "execution_count": 168,
      "outputs": []
    },
    {
      "cell_type": "markdown",
      "source": [
        "# 5. Myster challenge"
      ],
      "metadata": {
        "id": "ZckORrAY90xZ"
      }
    },
    {
      "cell_type": "code",
      "source": [
        "file=webpage.select(\"div.block a\")\n",
        "relative_file=[f['href'] for f in file]\n",
        "relative_file"
      ],
      "metadata": {
        "colab": {
          "base_uri": "https://localhost:8080/"
        },
        "id": "bMxO7QYv93oe",
        "outputId": "30e1086e-d561-4af0-e87d-9a02bdb1cbbe"
      },
      "execution_count": 174,
      "outputs": [
        {
          "output_type": "execute_result",
          "data": {
            "text/plain": [
              "['challenge/file_1.html',\n",
              " 'challenge/file_2.html',\n",
              " 'challenge/file_3.html',\n",
              " 'challenge/file_4.html',\n",
              " 'challenge/file_5.html',\n",
              " 'challenge/file_6.html',\n",
              " 'challenge/file_7.html',\n",
              " 'challenge/file_8.html',\n",
              " 'challenge/file_9.html',\n",
              " 'challenge/file_10.html']"
            ]
          },
          "metadata": {},
          "execution_count": 174
        }
      ]
    },
    {
      "cell_type": "code",
      "source": [
        "url=\"https://keithgalli.github.io/web-scraping/\"\n",
        "for f in relative_file:\n",
        "  full_url=url+f\n",
        "  page=requests.get(full_url)\n",
        "  bs_page=bs(page.content)\n",
        "  secret_word=bs_page.find(\"p\",attrs={\"id\":\"secret-word\"})\n",
        "  secret_word=secret_word.string\n",
        "  print(secret_word)\n"
      ],
      "metadata": {
        "colab": {
          "base_uri": "https://localhost:8080/"
        },
        "id": "MTNFhE-2DVY2",
        "outputId": "d054553b-a747-4c79-8362-76495f0d55a8"
      },
      "execution_count": 179,
      "outputs": [
        {
          "output_type": "stream",
          "name": "stdout",
          "text": [
            "Make\n",
            "sure\n",
            "to\n",
            "smash\n",
            "that\n",
            "like\n",
            "button\n",
            "and\n",
            "subscribe\n",
            "!!!\n"
          ]
        }
      ]
    },
    {
      "cell_type": "code",
      "source": [],
      "metadata": {
        "id": "MO7MBxGDEoHQ"
      },
      "execution_count": null,
      "outputs": []
    }
  ]
}